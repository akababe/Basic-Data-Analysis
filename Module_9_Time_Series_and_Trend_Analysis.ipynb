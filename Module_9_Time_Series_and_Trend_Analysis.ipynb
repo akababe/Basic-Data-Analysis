{
  "cells": [
    {
      "cell_type": "markdown",
      "metadata": {
        "id": "view-in-github",
        "colab_type": "text"
      },
      "source": [
        "<a href=\"https://colab.research.google.com/github/akababe/Basic-Data-Analysis/blob/main/Module_9_Time_Series_and_Trend_Analysis.ipynb\" target=\"_parent\"><img src=\"https://colab.research.google.com/assets/colab-badge.svg\" alt=\"Open In Colab\"/></a>"
      ]
    },
    {
      "cell_type": "markdown",
      "id": "3540919d",
      "metadata": {
        "id": "3540919d"
      },
      "source": [
        "# Module 9: Time Series and Trend Analysis"
      ]
    },
    {
      "cell_type": "markdown",
      "id": "3fe2acbe",
      "metadata": {
        "id": "3fe2acbe"
      },
      "source": [
        "## Topics\n",
        "- Time Indexing and Resampling\n",
        "- Rolling Means and Seasonal Decomposition\n",
        "- Forecasting with Simple Models"
      ]
    },
    {
      "cell_type": "markdown",
      "id": "b2272d23",
      "metadata": {
        "id": "b2272d23"
      },
      "source": [
        "## Project\n",
        "- Time series analysis of monthly sales trends"
      ]
    },
    {
      "cell_type": "code",
      "execution_count": null,
      "id": "2ea32870",
      "metadata": {
        "id": "2ea32870"
      },
      "outputs": [],
      "source": [
        "# Start your analysis here\n"
      ]
    }
  ],
  "metadata": {
    "colab": {
      "provenance": [],
      "include_colab_link": true
    }
  },
  "nbformat": 4,
  "nbformat_minor": 5
}