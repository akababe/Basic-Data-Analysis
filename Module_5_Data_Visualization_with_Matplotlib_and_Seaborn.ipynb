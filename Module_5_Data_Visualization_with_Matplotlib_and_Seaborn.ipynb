{
  "cells": [
    {
      "cell_type": "markdown",
      "metadata": {
        "id": "view-in-github",
        "colab_type": "text"
      },
      "source": [
        "<a href=\"https://colab.research.google.com/github/akababe/Basic-Data-Analysis/blob/main/Module_5_Data_Visualization_with_Matplotlib_and_Seaborn.ipynb\" target=\"_parent\"><img src=\"https://colab.research.google.com/assets/colab-badge.svg\" alt=\"Open In Colab\"/></a>"
      ]
    },
    {
      "cell_type": "markdown",
      "id": "1ff6e429",
      "metadata": {
        "id": "1ff6e429"
      },
      "source": [
        "# Module 5: Data Visualization with Matplotlib and Seaborn"
      ]
    },
    {
      "cell_type": "markdown",
      "id": "bc540283",
      "metadata": {
        "id": "bc540283"
      },
      "source": [
        "## Topics\n",
        "- Matplotlib Basics: plot, scatter, bar, histogram, pie\n",
        "- Seaborn: distribution plots, categorical plots, heatmaps\n",
        "- Customizing Plots: labels, legends, subplots\n",
        "- Saving and Exporting Visuals"
      ]
    },
    {
      "cell_type": "markdown",
      "id": "3417799d",
      "metadata": {
        "id": "3417799d"
      },
      "source": [
        "## Project\n",
        "- Build visual analysis report for marketing campaign performance"
      ]
    },
    {
      "cell_type": "code",
      "execution_count": null,
      "id": "ff9ad88a",
      "metadata": {
        "id": "ff9ad88a"
      },
      "outputs": [],
      "source": [
        "# Start your analysis here\n"
      ]
    }
  ],
  "metadata": {
    "colab": {
      "provenance": [],
      "include_colab_link": true
    }
  },
  "nbformat": 4,
  "nbformat_minor": 5
}