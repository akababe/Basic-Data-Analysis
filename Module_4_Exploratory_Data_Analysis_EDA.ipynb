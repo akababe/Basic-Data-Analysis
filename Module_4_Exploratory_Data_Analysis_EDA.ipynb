{
  "cells": [
    {
      "cell_type": "markdown",
      "metadata": {
        "id": "view-in-github",
        "colab_type": "text"
      },
      "source": [
        "<a href=\"https://colab.research.google.com/github/akababe/Basic-Data-Analysis/blob/main/Module_4_Exploratory_Data_Analysis_EDA.ipynb\" target=\"_parent\"><img src=\"https://colab.research.google.com/assets/colab-badge.svg\" alt=\"Open In Colab\"/></a>"
      ]
    },
    {
      "cell_type": "markdown",
      "id": "10302a74",
      "metadata": {
        "id": "10302a74"
      },
      "source": [
        "# Module 4: Exploratory Data Analysis (EDA)"
      ]
    },
    {
      "cell_type": "markdown",
      "id": "00cb41a6",
      "metadata": {
        "id": "00cb41a6"
      },
      "source": [
        "## Topics\n",
        "- Summary Statistics\n",
        "- Value Counts and Cross Tabs\n",
        "- Correlation and Covariance\n",
        "- Outlier Detection Techniques"
      ]
    },
    {
      "cell_type": "markdown",
      "id": "71307529",
      "metadata": {
        "id": "71307529"
      },
      "source": [
        "## Project\n",
        "- Exploratory Analysis on customer churn dataset"
      ]
    },
    {
      "cell_type": "code",
      "execution_count": null,
      "id": "a2c3397a",
      "metadata": {
        "id": "a2c3397a"
      },
      "outputs": [],
      "source": [
        "# Start your analysis here\n"
      ]
    }
  ],
  "metadata": {
    "colab": {
      "provenance": [],
      "include_colab_link": true
    }
  },
  "nbformat": 4,
  "nbformat_minor": 5
}