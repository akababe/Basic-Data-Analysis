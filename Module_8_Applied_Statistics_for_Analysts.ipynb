{
  "cells": [
    {
      "cell_type": "markdown",
      "metadata": {
        "id": "view-in-github",
        "colab_type": "text"
      },
      "source": [
        "<a href=\"https://colab.research.google.com/github/akababe/Basic-Data-Analysis/blob/main/Module_8_Applied_Statistics_for_Analysts.ipynb\" target=\"_parent\"><img src=\"https://colab.research.google.com/assets/colab-badge.svg\" alt=\"Open In Colab\"/></a>"
      ]
    },
    {
      "cell_type": "markdown",
      "id": "9dc28bb9",
      "metadata": {
        "id": "9dc28bb9"
      },
      "source": [
        "# Module 8: Applied Statistics for Analysts"
      ]
    },
    {
      "cell_type": "markdown",
      "id": "d2f2fa19",
      "metadata": {
        "id": "d2f2fa19"
      },
      "source": [
        "## Topics\n",
        "- Descriptive and Inferential Statistics\n",
        "- Hypothesis Testing\n",
        "- Correlation vs Causation\n",
        "- Confidence Intervals and Sampling"
      ]
    },
    {
      "cell_type": "markdown",
      "id": "98c74b46",
      "metadata": {
        "id": "98c74b46"
      },
      "source": [
        "## Project\n",
        "- A/B test analysis of website conversion rates"
      ]
    },
    {
      "cell_type": "code",
      "execution_count": null,
      "id": "b5ee5ed6",
      "metadata": {
        "id": "b5ee5ed6"
      },
      "outputs": [],
      "source": [
        "# Start your analysis here\n"
      ]
    }
  ],
  "metadata": {
    "colab": {
      "provenance": [],
      "include_colab_link": true
    }
  },
  "nbformat": 4,
  "nbformat_minor": 5
}