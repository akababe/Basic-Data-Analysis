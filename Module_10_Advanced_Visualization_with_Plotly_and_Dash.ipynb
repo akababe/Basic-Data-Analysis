{
  "cells": [
    {
      "cell_type": "markdown",
      "metadata": {
        "id": "view-in-github",
        "colab_type": "text"
      },
      "source": [
        "<a href=\"https://colab.research.google.com/github/akababe/Basic-Data-Analysis/blob/main/Module_10_Advanced_Visualization_with_Plotly_and_Dash.ipynb\" target=\"_parent\"><img src=\"https://colab.research.google.com/assets/colab-badge.svg\" alt=\"Open In Colab\"/></a>"
      ]
    },
    {
      "cell_type": "markdown",
      "id": "00fe6278",
      "metadata": {
        "id": "00fe6278"
      },
      "source": [
        "# Module 10: Advanced Visualization with Plotly and Dash (Optional)"
      ]
    },
    {
      "cell_type": "markdown",
      "id": "cd356257",
      "metadata": {
        "id": "cd356257"
      },
      "source": [
        "## Topics\n",
        "- Interactive Dashboards with Plotly\n",
        "- Building Layouts in Dash\n",
        "- Callbacks and Interactivity"
      ]
    },
    {
      "cell_type": "markdown",
      "id": "2e3ce2d4",
      "metadata": {
        "id": "2e3ce2d4"
      },
      "source": [
        "## Project\n",
        "- Capstone: Build a dynamic dashboard for executive sales reporting"
      ]
    },
    {
      "cell_type": "code",
      "execution_count": null,
      "id": "f7a4dada",
      "metadata": {
        "id": "f7a4dada"
      },
      "outputs": [],
      "source": [
        "# Start your analysis here\n"
      ]
    }
  ],
  "metadata": {
    "colab": {
      "provenance": [],
      "include_colab_link": true
    }
  },
  "nbformat": 4,
  "nbformat_minor": 5
}