{
  "cells": [
    {
      "cell_type": "markdown",
      "metadata": {
        "id": "view-in-github",
        "colab_type": "text"
      },
      "source": [
        "<a href=\"https://colab.research.google.com/github/akababe/Basic-Data-Analysis/blob/main/Module_1_Introduction_to_Python_for_Data_Analytics.ipynb\" target=\"_parent\"><img src=\"https://colab.research.google.com/assets/colab-badge.svg\" alt=\"Open In Colab\"/></a>"
      ]
    },
    {
      "cell_type": "markdown",
      "id": "0dbf9f4e",
      "metadata": {
        "id": "0dbf9f4e"
      },
      "source": [
        "# Module 1: Introduction to Python for Data Analytics"
      ]
    },
    {
      "cell_type": "markdown",
      "id": "7d492099",
      "metadata": {
        "id": "7d492099"
      },
      "source": [
        "## Topics\n",
        "- Python Setup and IDEs (Anaconda, Jupyter, VS Code)\n",
        "- Python Basics: variables, data types, operators\n",
        "- Control Flow: if-else, loops\n",
        "- Functions and Modules\n",
        "- Introduction to Jupyter Notebooks"
      ]
    },
    {
      "cell_type": "markdown",
      "id": "95b10e76",
      "metadata": {
        "id": "95b10e76"
      },
      "source": [
        "## Project\n",
        "- Mini Python scripts to automate data tasks"
      ]
    },
    {
      "cell_type": "code",
      "execution_count": null,
      "id": "eae5908e",
      "metadata": {
        "id": "eae5908e"
      },
      "outputs": [],
      "source": [
        "# Start your analysis here\n"
      ]
    }
  ],
  "metadata": {
    "colab": {
      "provenance": [],
      "include_colab_link": true
    }
  },
  "nbformat": 4,
  "nbformat_minor": 5
}