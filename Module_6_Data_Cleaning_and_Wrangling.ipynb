{
  "cells": [
    {
      "cell_type": "markdown",
      "metadata": {
        "id": "view-in-github",
        "colab_type": "text"
      },
      "source": [
        "<a href=\"https://colab.research.google.com/github/akababe/Basic-Data-Analysis/blob/main/Module_6_Data_Cleaning_and_Wrangling.ipynb\" target=\"_parent\"><img src=\"https://colab.research.google.com/assets/colab-badge.svg\" alt=\"Open In Colab\"/></a>"
      ]
    },
    {
      "cell_type": "markdown",
      "id": "499ad0bd",
      "metadata": {
        "id": "499ad0bd"
      },
      "source": [
        "# Module 6: Data Cleaning and Wrangling"
      ]
    },
    {
      "cell_type": "markdown",
      "id": "f4848456",
      "metadata": {
        "id": "f4848456"
      },
      "source": [
        "## Topics\n",
        "- Identifying Data Quality Issues\n",
        "- Data Transformation Techniques\n",
        "- Encoding Categorical Variables\n",
        "- Date and Time Data"
      ]
    },
    {
      "cell_type": "markdown",
      "id": "deef2270",
      "metadata": {
        "id": "deef2270"
      },
      "source": [
        "## Project\n",
        "- Data quality audit and cleanup of eCommerce product data"
      ]
    },
    {
      "cell_type": "code",
      "execution_count": null,
      "id": "7c664853",
      "metadata": {
        "id": "7c664853"
      },
      "outputs": [],
      "source": [
        "# Start your analysis here\n"
      ]
    }
  ],
  "metadata": {
    "colab": {
      "provenance": [],
      "include_colab_link": true
    }
  },
  "nbformat": 4,
  "nbformat_minor": 5
}