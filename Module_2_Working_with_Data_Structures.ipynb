{
  "cells": [
    {
      "cell_type": "markdown",
      "metadata": {
        "id": "view-in-github",
        "colab_type": "text"
      },
      "source": [
        "<a href=\"https://colab.research.google.com/github/akababe/Basic-Data-Analysis/blob/main/Module_2_Working_with_Data_Structures.ipynb\" target=\"_parent\"><img src=\"https://colab.research.google.com/assets/colab-badge.svg\" alt=\"Open In Colab\"/></a>"
      ]
    },
    {
      "cell_type": "markdown",
      "id": "8d38532b",
      "metadata": {
        "id": "8d38532b"
      },
      "source": [
        "# Module 2: Working with Data Structures"
      ]
    },
    {
      "cell_type": "markdown",
      "id": "e1c60b08",
      "metadata": {
        "id": "e1c60b08"
      },
      "source": [
        "## Topics\n",
        "- Lists, Tuples, Sets, Dictionaries\n",
        "- Comprehensions and Lambda Functions\n",
        "- File I/O and CSV Handling"
      ]
    },
    {
      "cell_type": "markdown",
      "id": "c88678ae",
      "metadata": {
        "id": "c88678ae"
      },
      "source": [
        "## Project\n",
        "- Create a Python script to load and manipulate multiple CSV datasets"
      ]
    },
    {
      "cell_type": "code",
      "execution_count": null,
      "id": "432463ac",
      "metadata": {
        "id": "432463ac"
      },
      "outputs": [],
      "source": [
        "# Start your analysis here\n"
      ]
    }
  ],
  "metadata": {
    "colab": {
      "provenance": [],
      "include_colab_link": true
    }
  },
  "nbformat": 4,
  "nbformat_minor": 5
}