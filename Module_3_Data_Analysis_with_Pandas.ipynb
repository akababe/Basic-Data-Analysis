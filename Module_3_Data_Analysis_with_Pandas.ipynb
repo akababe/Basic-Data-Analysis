{
  "cells": [
    {
      "cell_type": "markdown",
      "metadata": {
        "id": "view-in-github",
        "colab_type": "text"
      },
      "source": [
        "<a href=\"https://colab.research.google.com/github/akababe/Basic-Data-Analysis/blob/main/Module_3_Data_Analysis_with_Pandas.ipynb\" target=\"_parent\"><img src=\"https://colab.research.google.com/assets/colab-badge.svg\" alt=\"Open In Colab\"/></a>"
      ]
    },
    {
      "cell_type": "markdown",
      "id": "2d931ce3",
      "metadata": {
        "id": "2d931ce3"
      },
      "source": [
        "# Module 3: Data Analysis with Pandas"
      ]
    },
    {
      "cell_type": "markdown",
      "id": "d598ef74",
      "metadata": {
        "id": "d598ef74"
      },
      "source": [
        "## Topics\n",
        "- Introduction to Pandas DataFrames and Series\n",
        "- Reading/Writing data (CSV, Excel, SQL)\n",
        "- Indexing, Filtering, Sorting, GroupBy\n",
        "- Handling Missing Data\n",
        "- Merging, Joining, Concatenating"
      ]
    },
    {
      "cell_type": "markdown",
      "id": "09fcb16b",
      "metadata": {
        "id": "09fcb16b"
      },
      "source": [
        "## Project\n",
        "- Clean and summarize a sales dataset from raw CSV files"
      ]
    },
    {
      "cell_type": "code",
      "execution_count": null,
      "id": "68a17a06",
      "metadata": {
        "id": "68a17a06"
      },
      "outputs": [],
      "source": [
        "# Start your analysis here\n"
      ]
    }
  ],
  "metadata": {
    "colab": {
      "provenance": [],
      "include_colab_link": true
    }
  },
  "nbformat": 4,
  "nbformat_minor": 5
}